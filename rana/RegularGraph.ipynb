{
 "cells": [
  {
   "cell_type": "code",
   "execution_count": null,
   "metadata": {
    "collapsed": false
   },
   "outputs": [
    {
     "name": "stdout",
     "output_type": "stream",
     "text": [
      "{1: [4, 2], 2: [3, 1], 3: [2, 4], 4: [1, 3]}\n"
     ]
    }
   ],
   "source": [
    "import random\n",
    "import copy\n",
    "\n",
    "\n",
    "def checkCount(dic, r, x):\n",
    "    if dic[x] != (r):\n",
    "        return False\n",
    "    else:\n",
    "        return True\n",
    "\n",
    "\n",
    "def regular_graph(n, r):\n",
    "    \n",
    "    s = 0\n",
    "\n",
    "    myDict = {}\n",
    "    count = {}\n",
    "    \n",
    "    n = int(n)\n",
    "    r = int(r)\n",
    "    \n",
    "    x = []\n",
    "    for a in range(1, n + 1):\n",
    "        myDict[a] = copy.copy(x)\n",
    "        count[a] = 0\n",
    "\n",
    "    for i in range(1, r + 1):\n",
    "        for j in range(1, n + 1):\n",
    "            s = 0\n",
    "            while s == 0 :\n",
    "                v = int(random.uniform(1, n + 1))\n",
    "                if (v != j) and (v not in myDict[j]) and (count[v] < r) :\n",
    "                    myDict[j].append(v)\n",
    "                    myDict[v].append(j)\n",
    "                    count[v] += 1\n",
    "                    count[j] += 1\n",
    "                    s = 1\n",
    "                elif (checkCount(count, r, j)):\n",
    "                         s = 1\n",
    "    \n",
    "    return(myDict)\n",
    "\n",
    "\n",
    "#print(regular_graph(4,2))"
   ]
  }
 ],
 "metadata": {
  "anaconda-cloud": {},
  "kernelspec": {
   "display_name": "Python [conda root]",
   "language": "python",
   "name": "conda-root-py"
  },
  "language_info": {
   "codemirror_mode": {
    "name": "ipython",
    "version": 3.0
   },
   "file_extension": ".py",
   "mimetype": "text/x-python",
   "name": "python",
   "nbconvert_exporter": "python",
   "pygments_lexer": "ipython3",
   "version": "3.5.2"
  }
 },
 "nbformat": 4,
 "nbformat_minor": 0
}